{
 "cells": [
  {
   "cell_type": "markdown",
   "id": "0d93d8e5-9ddc-4693-8bd4-bda403ae40a1",
   "metadata": {},
   "source": [
    "# Data Science Tools and Ecosystem"
   ]
  },
  {
   "cell_type": "markdown",
   "id": "a778287b-b76c-4721-8154-6f54f2a7ed81",
   "metadata": {},
   "source": [
    "In this notebook, Data Science Tools and Ecosystem are summarized."
   ]
  },
  {
   "cell_type": "markdown",
   "id": "c9771531-2908-4540-abd6-3ec649ac5bbf",
   "metadata": {},
   "source": [
    "**Objectives**\n",
    "- List popular languages for Data Science\n",
    "- List popular libraries for Data Science\n",
    "- Create ordered and unordered lists\n",
    "- Perform basic arithmetic functions\n",
    "- Create a table"
   ]
  },
  {
   "cell_type": "code",
   "execution_count": null,
   "id": "0fc2a4b9-6024-4052-a672-2b181d3a337f",
   "metadata": {},
   "outputs": [],
   "source": []
  },
  {
   "cell_type": "markdown",
   "id": "75369868-692d-406a-86d2-293814464d09",
   "metadata": {},
   "source": [
    "Some of the popular languages that Data Scientists use are:"
   ]
  },
  {
   "cell_type": "markdown",
   "id": "a253dc59-6996-4093-b5be-9414d33ffa68",
   "metadata": {},
   "source": [
    "1. Python\n",
    "2. R\n",
    "3. Julia\n",
    "4. Scala"
   ]
  },
  {
   "cell_type": "markdown",
   "id": "49c360aa-4c20-417f-ab64-cd85f5dd3134",
   "metadata": {},
   "source": [
    "Some of the commonly used libraries used by Data Scientists include:\n",
    "1. Panda\n",
    "2. Tensorflow\n",
    "3. Numpy\n",
    "4. Matplotplib"
   ]
  },
  {
   "cell_type": "markdown",
   "id": "3da1839b-9aa5-41ab-898c-8bb4b6df7bc2",
   "metadata": {},
   "source": [
    "| Data Science Tools |\n",
    "|--------------------|\n",
    "|JupyterLite|\n",
    "|Visual Studio Code|\n",
    "|Google Colab|"
   ]
  },
  {
   "cell_type": "markdown",
   "id": "5573c5b0-d4cf-4d32-a25e-6093f182c35a",
   "metadata": {
    "tags": []
   },
   "source": [
    "### Below are a few examples of evaluating arithmetic expression in Python."
   ]
  },
  {
   "cell_type": "code",
   "execution_count": 7,
   "id": "bd36e283-bcc7-4eaa-90c0-f367361238c3",
   "metadata": {},
   "outputs": [
    {
     "data": {
      "text/plain": [
       "17"
      ]
     },
     "execution_count": 7,
     "metadata": {},
     "output_type": "execute_result"
    }
   ],
   "source": [
    "# This is a simple arithmetic expression to multiply then add integers.\n",
    "(3*4)+5"
   ]
  },
  {
   "cell_type": "code",
   "execution_count": 8,
   "id": "a00b3b6f-b7e0-4c43-8baf-615e5597ae39",
   "metadata": {},
   "outputs": [
    {
     "data": {
      "text/plain": [
       "3.3333333333333335"
      ]
     },
     "execution_count": 8,
     "metadata": {},
     "output_type": "execute_result"
    }
   ],
   "source": [
    "# This will convert 200 minutes to hours by dividing by 60\n",
    "200/60"
   ]
  },
  {
   "cell_type": "markdown",
   "id": "bdac54d0-f530-44aa-8453-0da9ca66b6c1",
   "metadata": {},
   "source": [
    "## Author\n",
    "Ali Zahir Hussein"
   ]
  },
  {
   "cell_type": "code",
   "execution_count": null,
   "id": "66666a34-3cd3-4104-b857-b69066a3350b",
   "metadata": {},
   "outputs": [],
   "source": []
  }
 ],
 "metadata": {
  "kernelspec": {
   "display_name": "Python 3 (ipykernel)",
   "language": "python",
   "name": "python3"
  },
  "language_info": {
   "codemirror_mode": {
    "name": "ipython",
    "version": 3
   },
   "file_extension": ".py",
   "mimetype": "text/x-python",
   "name": "python",
   "nbconvert_exporter": "python",
   "pygments_lexer": "ipython3",
   "version": "3.10.9"
  }
 },
 "nbformat": 4,
 "nbformat_minor": 5
}
